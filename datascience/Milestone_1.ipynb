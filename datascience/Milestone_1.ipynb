{
  "nbformat": 4,
  "nbformat_minor": 0,
  "metadata": {
    "colab": {
      "provenance": [],
      "authorship_tag": "ABX9TyNBCk3eFt+L0+1nz0lGcsed",
      "include_colab_link": true
    },
    "kernelspec": {
      "name": "python3",
      "display_name": "Python 3"
    },
    "language_info": {
      "name": "python"
    }
  },
  "cells": [
    {
      "cell_type": "markdown",
      "metadata": {
        "id": "view-in-github",
        "colab_type": "text"
      },
      "source": [
        "<a href=\"https://colab.research.google.com/github/elenajy/elenajy.github.io/blob/master/datascience/Milestone_1.ipynb\" target=\"_parent\"><img src=\"https://colab.research.google.com/assets/colab-badge.svg\" alt=\"Open In Colab\"/></a>"
      ]
    },
    {
      "cell_type": "markdown",
      "source": [
        "# Chess Game Dataset\n",
        "Austin Nguyen and Elena Yang\n",
        "\n",
        "[Link to our Github Page](https://elenajy.github.io/datascience/index.html)  \n",
        "\n",
        "Test?"
      ],
      "metadata": {
        "id": "AGP2F5w4hdn2"
      }
    },
    {
      "cell_type": "markdown",
      "source": [
        "# Project Goals"
      ],
      "metadata": {
        "id": "fv0-yU5bhflU"
      }
    },
    {
      "cell_type": "markdown",
      "source": [
        "# Project Dataset"
      ],
      "metadata": {
        "id": "G6ANNgiahkMQ"
      }
    },
    {
      "cell_type": "markdown",
      "source": [
        "# Collaboration Plan"
      ],
      "metadata": {
        "id": "RRIRLnbuhnLw"
      }
    },
    {
      "cell_type": "markdown",
      "source": [
        "# ETL (Extraction, Transform, and Load)"
      ],
      "metadata": {
        "id": "GnCnGNPrhpZ6"
      }
    },
    {
      "cell_type": "code",
      "source": [
        "import pandas as pd\n",
        "df = pd.read_excel('')"
      ],
      "metadata": {
        "id": "j63aJTLwhq60"
      },
      "execution_count": null,
      "outputs": []
    }
  ]
}